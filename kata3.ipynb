{
 "cells": [
  {
   "cell_type": "markdown",
   "metadata": {},
   "source": [
    "##Asteroide"
   ]
  },
  {
   "cell_type": "code",
   "execution_count": 3,
   "metadata": {},
   "outputs": [
    {
     "name": "stdout",
     "output_type": "stream",
     "text": [
      "Advertencia de Colision por velocidad de:50Km/s\n"
     ]
    }
   ],
   "source": [
    "velocidadAsteroide = 50\n",
    "velocidadAdevrtencia = 25\n",
    "\n",
    "if velocidadAsteroide > velocidadAdevrtencia:\n",
    "    print(\"Advertencia de Colision por velocidad de:\" + str(velocidadAsteroide) + \"Km/s\")\n",
    "else:\n",
    "    print(\"Sin peligro (:\")"
   ]
  },
  {
   "cell_type": "code",
   "execution_count": 6,
   "metadata": {},
   "outputs": [
    {
     "name": "stdout",
     "output_type": "stream",
     "text": [
      "Luz magica sin preligro\n"
     ]
    }
   ],
   "source": [
    "velocidadDestello = 20\n",
    "velocidadAsteroide = 20\n",
    "\n",
    "if velocidadAsteroide > velocidadDestello:\n",
    "    print(\"Hay una Luz Magica Miraaa\")\n",
    "elif velocidadAsteroide == velocidadDestello:\n",
    "    print(\"Luz magica sin preligro\")\n",
    "else:\n",
    "    print(\"Nada que ver\")\n"
   ]
  },
  {
   "cell_type": "code",
   "execution_count": 8,
   "metadata": {},
   "outputs": [
    {
     "name": "stdout",
     "output_type": "stream",
     "text": [
      "¡Hay una luz mágica en el cielo!\n"
     ]
    }
   ],
   "source": [
    "velocidad_asteroide = 25\n",
    "tamano_asteroide = 40\n",
    "if velocidad_asteroide > 25 and tamano_asteroide > 25:\n",
    "    print('¡Alerta, Un asteroide muy peligroso viene hacia la Tierra!')\n",
    "elif velocidad_asteroide >= 20:\n",
    "    print('¡Hay una luz mágica en el cielo!')\n",
    "elif tamano_asteroide < 25:\n",
    "    print('Nada que ver aquí :)')\n",
    "else:\n",
    "    print('Nada que ver aquí :)')"
   ]
  }
 ],
 "metadata": {
  "interpreter": {
   "hash": "1096d96948c228fd0d200fe0224c5b4749dc8f9f8502a0a25bea65f39e17c54a"
  },
  "kernelspec": {
   "display_name": "Python 3.10.2 64-bit",
   "language": "python",
   "name": "python3"
  },
  "language_info": {
   "codemirror_mode": {
    "name": "ipython",
    "version": 3
   },
   "file_extension": ".py",
   "mimetype": "text/x-python",
   "name": "python",
   "nbconvert_exporter": "python",
   "pygments_lexer": "ipython3",
   "version": "3.10.2"
  },
  "orig_nbformat": 4
 },
 "nbformat": 4,
 "nbformat_minor": 2
}
